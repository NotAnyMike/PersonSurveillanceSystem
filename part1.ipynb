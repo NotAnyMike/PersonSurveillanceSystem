{
 "cells": [
  {
   "cell_type": "code",
   "execution_count": 1,
   "metadata": {},
   "outputs": [],
   "source": [
    "import sys\n",
    "sys.path.append('/afs/inf.ed.ac.uk/user/s15/s1521716/miniconda3/envs/ivc/lib/python3.7/site-packages')"
   ]
  },
  {
   "cell_type": "code",
   "execution_count": 2,
   "metadata": {},
   "outputs": [
    {
     "ename": "ImportError",
     "evalue": "No module named 'cv2'",
     "output_type": "error",
     "traceback": [
      "\u001b[0;31m---------------------------------------------------------------------------\u001b[0m",
      "\u001b[0;31mImportError\u001b[0m                               Traceback (most recent call last)",
      "\u001b[0;32m<ipython-input-2-bf0012a7bc0f>\u001b[0m in \u001b[0;36m<module>\u001b[0;34m()\u001b[0m\n\u001b[1;32m      4\u001b[0m \u001b[0;32mimport\u001b[0m \u001b[0mmatplotlib\u001b[0m\u001b[0;34m.\u001b[0m\u001b[0mpyplot\u001b[0m \u001b[0;32mas\u001b[0m \u001b[0mplt\u001b[0m\u001b[0;34m\u001b[0m\u001b[0m\n\u001b[1;32m      5\u001b[0m \u001b[0;32mfrom\u001b[0m \u001b[0mskimage\u001b[0m \u001b[0;32mimport\u001b[0m \u001b[0mfeature\u001b[0m\u001b[0;34m\u001b[0m\u001b[0m\n\u001b[0;32m----> 6\u001b[0;31m \u001b[0;32mimport\u001b[0m \u001b[0mcv2\u001b[0m \u001b[0;32mas\u001b[0m \u001b[0mcv\u001b[0m\u001b[0;34m\u001b[0m\u001b[0m\n\u001b[0m\u001b[1;32m      7\u001b[0m \u001b[0mget_ipython\u001b[0m\u001b[0;34m(\u001b[0m\u001b[0;34m)\u001b[0m\u001b[0;34m.\u001b[0m\u001b[0mmagic\u001b[0m\u001b[0;34m(\u001b[0m\u001b[0;34m'matplotlib inline'\u001b[0m\u001b[0;34m)\u001b[0m\u001b[0;34m\u001b[0m\u001b[0m\n",
      "\u001b[0;31mImportError\u001b[0m: No module named 'cv2'"
     ]
    }
   ],
   "source": [
    "import numpy as np\n",
    "import scipy as sp\n",
    "import scipy.io as spo\n",
    "import matplotlib.pyplot as plt\n",
    "from skimage import feature\n",
    "import cv2 as cv\n",
    "%matplotlib inline"
   ]
  },
  {
   "cell_type": "code",
   "execution_count": null,
   "metadata": {},
   "outputs": [],
   "source": [
    "resize_size=[128 64];"
   ]
  },
  {
   "cell_type": "code",
   "execution_count": 7,
   "metadata": {},
   "outputs": [
    {
     "name": "stdout",
     "output_type": "stream",
     "text": [
      "\"/afs/inf.ed.ac.uk/user/s15/s1521716/ivc/IVC_assignment-2018/data/person_re-identification/person_re-id_train.mat\" may be a binary file.  See it anyway? \u0007\n",
      "\n"
     ]
    }
   ],
   "source": [
    "!less ~/ivc/IVC_assignment-2018/data/person_re-identification/person_re-id_train.mat"
   ]
  },
  {
   "cell_type": "code",
   "execution_count": 42,
   "metadata": {},
   "outputs": [],
   "source": [
    "# load data\n",
    "test_data = spo.loadmat(\"/afs/inf.ed.ac.uk/user/s15/s1521716/ivc/IVC_assignment-2018/data/person_re-identification/person_re-id_test.mat\")\n",
    "train_data = spo.loadmat(\"/afs/inf.ed.ac.uk/user/s15/s1521716/ivc/IVC_assignment-2018/data/person_re-identification/person_re-id_train.mat\")\n",
    "\n",
    "train_image1 = train_data[\"train\"][\"image1\"].T\n",
    "train_id1 = train_data[\"train\"][\"id1\"].T\n",
    "train_image2 = train_data[\"train\"][\"image2\"].T\n",
    "train_id2 = train_data[\"train\"][\"id2\"].T\n",
    "\n",
    "test_gallery = test_data[\"gallery\"][\"image\"].T\n",
    "test_gallery_id = test_data[\"gallery\"][\"id\"].T\n",
    "test_query = test_data[\"query\"][\"image\"].T\n",
    "test_query_id = test_data[\"query\"][\"id\"].T"
   ]
  },
  {
   "cell_type": "code",
   "execution_count": 54,
   "metadata": {},
   "outputs": [],
   "source": [
    "# set up labels\n",
    "Y_train = np.ones_like(train_id1)\n",
    "Y_train[train_id1 != train_id2] = -1"
   ]
  },
  {
   "cell_type": "code",
   "execution_count": null,
   "metadata": {},
   "outputs": [],
   "source": [
    "class ExpParams():\n",
    "    __init__():\n",
    "        self.use_colour = False;\n",
    "        self.use_colour_hsv = False;\n",
    "        self.colour_nbin = 4;\n",
    "        self.colour_win_size = [16 16];\n",
    "        \n",
    "        self.use_hog = False;\n",
    "        self.hog_win_size = [16 16];\n",
    "        self.hog_nbins = 5;\n",
    "        self.hog_block_size = [4 4];\n",
    "\n",
    "        self.use_lbp = False;\n",
    "        self.lbp_win_size = [16 16];\n",
    "        self.lbp_n_neighbour = 8;\n",
    "        self.lbp_radius = 1;\n",
    "        self.is_upright = False;"
   ]
  },
  {
   "cell_type": "code",
   "execution_count": 56,
   "metadata": {},
   "outputs": [
    {
     "data": {
      "text/plain": [
       "(2000, 1)"
      ]
     },
     "execution_count": 56,
     "metadata": {},
     "output_type": "execute_result"
    }
   ],
   "source": [
    "def extract_features(images, params):\n",
    "    features = np.array([])\n",
    "    for image in images:\n",
    "        gray = cv.cvtColor(image, cv.COLOR_BGR2GRAY)\n",
    "        hsv = cv.cvtColor(image, cv.COLOR_BGR2HSV)\n",
    "        tmp = np.array([])\n",
    "        \n",
    "        if params.use_lbp:\n",
    "            lbp_feat = feature.local_binary_pattern(gray, params.lbp_n_neighbour, params.lbp_radius)\n",
    "            tmp = np.hstack((tmp, lbp_feat))\n",
    "            \n",
    "        if params.use_colour:\n",
    "            # do colour stuff\n",
    "            tmp = np.hstack((tmp, lbp_feat))\n",
    "            \n",
    "        if params.use_colour_hsv:\n",
    "            # do colour stuff\n",
    "            tmp = np.hstack((tmp, lbp_feat))\n",
    "            \n",
    "        if params.use_hog:\n",
    "            feature.hog(gray, orientations=8, pixels_per_cell=params.hog_win_size,\n",
    "                    params.cells_per_block=(1, 1), multichannel=True)\n",
    "            tmp = np.hstack((tmp, lbp_feat))\n",
    "            \n",
    "        \n",
    "def extract_colour_hist(image, params):\n",
    "    new_shape = tuple(np.array(image.shape) / params.colour_win_size) + params.colour_win_size\n",
    "        "
   ]
  },
  {
   "cell_type": "code",
   "execution_count": 61,
   "metadata": {},
   "outputs": [
    {
     "ename": "ValueError",
     "evalue": "The parameter `image` must be a 2-dimensional array",
     "output_type": "error",
     "traceback": [
      "\u001b[0;31m---------------------------------------------------------------------------\u001b[0m",
      "\u001b[0;31mValueError\u001b[0m                                Traceback (most recent call last)",
      "\u001b[0;32m<ipython-input-61-0a516814b171>\u001b[0m in \u001b[0;36m<module>\u001b[0;34m()\u001b[0m\n\u001b[0;32m----> 1\u001b[0;31m \u001b[0mfeature\u001b[0m\u001b[0;34m.\u001b[0m\u001b[0mlocal_binary_pattern\u001b[0m\u001b[0;34m(\u001b[0m\u001b[0mtrain_image1\u001b[0m\u001b[0;34m[\u001b[0m\u001b[0;36m0\u001b[0m\u001b[0;34m]\u001b[0m\u001b[0;34m[\u001b[0m\u001b[0;36m0\u001b[0m\u001b[0;34m]\u001b[0m\u001b[0;34m,\u001b[0m \u001b[0;36m8\u001b[0m\u001b[0;34m,\u001b[0m \u001b[0;36m1\u001b[0m\u001b[0;34m)\u001b[0m\u001b[0;34m\u001b[0m\u001b[0m\n\u001b[0m",
      "\u001b[0;32m/usr/lib64/python3.4/site-packages/skimage/feature/texture.py\u001b[0m in \u001b[0;36mlocal_binary_pattern\u001b[0;34m(image, P, R, method)\u001b[0m\n\u001b[1;32m    308\u001b[0m            \u001b[0;36m2004.\u001b[0m\u001b[0;34m\u001b[0m\u001b[0m\n\u001b[1;32m    309\u001b[0m     \"\"\"\n\u001b[0;32m--> 310\u001b[0;31m     \u001b[0massert_nD\u001b[0m\u001b[0;34m(\u001b[0m\u001b[0mimage\u001b[0m\u001b[0;34m,\u001b[0m \u001b[0;36m2\u001b[0m\u001b[0;34m)\u001b[0m\u001b[0;34m\u001b[0m\u001b[0m\n\u001b[0m\u001b[1;32m    311\u001b[0m \u001b[0;34m\u001b[0m\u001b[0m\n\u001b[1;32m    312\u001b[0m     methods = {\n",
      "\u001b[0;32m/usr/lib64/python3.4/site-packages/skimage/_shared/utils.py\u001b[0m in \u001b[0;36massert_nD\u001b[0;34m(array, ndim, arg_name)\u001b[0m\n\u001b[1;32m    176\u001b[0m         \u001b[0;32mraise\u001b[0m \u001b[0mValueError\u001b[0m\u001b[0;34m(\u001b[0m\u001b[0mmsg_empty_array\u001b[0m \u001b[0;34m%\u001b[0m \u001b[0;34m(\u001b[0m\u001b[0marg_name\u001b[0m\u001b[0;34m)\u001b[0m\u001b[0;34m)\u001b[0m\u001b[0;34m\u001b[0m\u001b[0m\n\u001b[1;32m    177\u001b[0m     \u001b[0;32mif\u001b[0m \u001b[0;32mnot\u001b[0m \u001b[0marray\u001b[0m\u001b[0;34m.\u001b[0m\u001b[0mndim\u001b[0m \u001b[0;32min\u001b[0m \u001b[0mndim\u001b[0m\u001b[0;34m:\u001b[0m\u001b[0;34m\u001b[0m\u001b[0m\n\u001b[0;32m--> 178\u001b[0;31m         \u001b[0;32mraise\u001b[0m \u001b[0mValueError\u001b[0m\u001b[0;34m(\u001b[0m\u001b[0mmsg_incorrect_dim\u001b[0m \u001b[0;34m%\u001b[0m \u001b[0;34m(\u001b[0m\u001b[0marg_name\u001b[0m\u001b[0;34m,\u001b[0m \u001b[0;34m'-or-'\u001b[0m\u001b[0;34m.\u001b[0m\u001b[0mjoin\u001b[0m\u001b[0;34m(\u001b[0m\u001b[0;34m[\u001b[0m\u001b[0mstr\u001b[0m\u001b[0;34m(\u001b[0m\u001b[0mn\u001b[0m\u001b[0;34m)\u001b[0m \u001b[0;32mfor\u001b[0m \u001b[0mn\u001b[0m \u001b[0;32min\u001b[0m \u001b[0mndim\u001b[0m\u001b[0;34m]\u001b[0m\u001b[0;34m)\u001b[0m\u001b[0;34m)\u001b[0m\u001b[0;34m)\u001b[0m\u001b[0;34m\u001b[0m\u001b[0m\n\u001b[0m\u001b[1;32m    179\u001b[0m \u001b[0;34m\u001b[0m\u001b[0m\n\u001b[1;32m    180\u001b[0m \u001b[0;34m\u001b[0m\u001b[0m\n",
      "\u001b[0;31mValueError\u001b[0m: The parameter `image` must be a 2-dimensional array"
     ]
    }
   ],
   "source": [
    "feature.local_binary_pattern(train_image1[0][0], 8, 1)"
   ]
  },
  {
   "cell_type": "code",
   "execution_count": 51,
   "metadata": {},
   "outputs": [
    {
     "data": {
      "text/plain": [
       "<matplotlib.image.AxesImage at 0x7fed894e8b70>"
      ]
     },
     "execution_count": 51,
     "metadata": {},
     "output_type": "execute_result"
    },
    {
     "data": {
      "image/png": "[encoded data removed]",
      "text/plain": [
       "<Figure size 432x288 with 1 Axes>"
      ]
     },
     "metadata": {},
     "output_type": "display_data"
    }
   ],
   "source": [
    "plt.imshow(train_image2[12][0])"
   ]
  }
 ],
 "metadata": {
  "kernelspec": {
   "display_name": "Python 3",
   "language": "python",
   "name": "python3"
  },
  "language_info": {
   "codemirror_mode": {
    "name": "ipython",
    "version": 3
   },
   "file_extension": ".py",
   "mimetype": "text/x-python",
   "name": "python",
   "nbconvert_exporter": "python",
   "pygments_lexer": "ipython3",
   "version": "3.4.9"
  }
 },
 "nbformat": 4,
 "nbformat_minor": 2
}
